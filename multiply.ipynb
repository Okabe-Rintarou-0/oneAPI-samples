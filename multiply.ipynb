{
 "cells": [
  {
   "cell_type": "code",
   "execution_count": null,
   "metadata": {},
   "outputs": [],
   "source": [
    "import numpy as np\n",
    "from oneapi import dpl as dp\n",
    "\n",
    "# Define the size of the arrays\n",
    "n = 1000\n",
    "\n",
    "# Define the input arrays in host memory\n",
    "a = np.arange(n, dtype=np.float32)\n",
    "b = np.arange(n, dtype=np.float32) + 1\n",
    "\n",
    "# Create oneAPI buffer objects to store data in device memory\n",
    "# buffer_a will hold the data of array a\n",
    "buffer_a = dp.device_allocator(np.float32).allocate(n)\n",
    "# buffer_b will hold the data of array b\n",
    "buffer_b = dp.device_allocator(np.float32).allocate(n)\n",
    "# buffer_result will hold the result of the operation\n",
    "buffer_result = dp.device_allocator(np.float32).allocate(n)\n",
    "\n",
    "# Copy the data from host memory to device memory\n",
    "# Copy the data of array a from host memory to buffer_a in device memory\n",
    "dp.device_memcpy(buffer_a, a)\n",
    "# Copy the data of array b from host memory to buffer_b in device memory\n",
    "dp.device_memcpy(buffer_b, b)\n",
    "\n",
    "# Use oneAPI's parallel_for to perform parallel array multiplication operation\n",
    "# This will multiply the corresponding elements of buffer_a and buffer_b\n",
    "# and store the result in buffer_result. The lambda function defines the operation\n",
    "# for each element at index i.\n",
    "dp.parallel_for(n, dp.DEVICE_DEFAULT, lambda i: buffer_a[i] * buffer_b[i])\n",
    "\n",
    "# Copy the result from device memory back to host memory\n",
    "# Create an empty array in host memory to receive the result\n",
    "result = np.empty(n, dtype=np.float32)\n",
    "# Copy the result from buffer_result in device memory to the result array in host memory\n",
    "dp.device_memcpy(result, buffer_result)\n",
    "\n",
    "# Release the device memory buffers to free up memory\n",
    "# Deallocate the buffer_a to release the memory it occupies in device memory\n",
    "buffer_a.deallocate()\n",
    "# Deallocate the buffer_b to release the memory it occupies in device memory\n",
    "buffer_b.deallocate()\n",
    "# Deallocate the buffer_result to release the memory it occupies in device memory\n",
    "buffer_result.deallocate()\n",
    "\n",
    "# Calculate the sum of the result array\n",
    "# Use numpy's sum function to calculate the total sum of the elements in the result array\n",
    "total_result = np.sum(result)\n",
    "\n",
    "print(\"The sum of the array multiplication results is:\", total_result)"
   ]
  }
 ],
 "metadata": {
  "language_info": {
   "name": "python"
  },
  "orig_nbformat": 4
 },
 "nbformat": 4,
 "nbformat_minor": 2
}
