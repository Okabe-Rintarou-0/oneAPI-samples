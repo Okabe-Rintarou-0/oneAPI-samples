{
 "cells": [
  {
   "cell_type": "markdown",
   "source": [
    "# COVID-19 daily cases prediction\n",
    "\n",
    "Given survey results in the past 3 days in a specific state in U.S., then\n",
    "predict the percentage of new tested positive cases in the 3rd day.\n",
    "In this sample, we will work around the data file `covid.csv`.\n"
   ],
   "metadata": {
    "collapsed": false,
    "pycharm": {
     "name": "#%% md\n"
    }
   }
  },
  {
   "cell_type": "markdown",
   "source": [
    "## Importing and preparing data\n",
    "First we need to import all the required packages, and import Intel(R) Extension for Scikit-learn*."
   ],
   "metadata": {
    "collapsed": false,
    "pycharm": {
     "name": "#%% md\n"
    }
   }
  },
  {
   "cell_type": "code",
   "execution_count": 32,
   "outputs": [
    {
     "name": "stderr",
     "output_type": "stream",
     "text": [
      "Intel(R) Extension for Scikit-learn* enabled (https://github.com/intel/scikit-learn-intelex)\n"
     ]
    }
   ],
   "source": [
    "#Intel(R) Extension for Scikit-learn dynamically patches scikit-learn estimators to use oneDAL as the underlying solver\n",
    "from sklearnex import patch_sklearn\n",
    "patch_sklearn()\n",
    "\n",
    "import numpy as np\n",
    "import pandas as pd\n",
    "from sklearn.preprocessing import MinMaxScaler\n",
    "from sklearn.feature_selection import SelectKBest, f_regression\n",
    "from sklearn.model_selection import train_test_split\n",
    "from sklearn.linear_model import LinearRegression\n",
    "\n",
    "csv = pd.read_csv('covid.csv')\n",
    "data = csv.values\n",
    "columns = csv.columns"
   ],
   "metadata": {
    "collapsed": false,
    "pycharm": {
     "name": "#%%\n"
    }
   }
  },
  {
   "cell_type": "markdown",
   "source": [
    "## Feature extraction and normalization\n",
    "\n",
    "First, we need to prepare for the data and do some feature extraction. We will use SelectKBest to extract the most important features.\n",
    "\n",
    "We will select `k` features, here k = 12."
   ],
   "metadata": {
    "collapsed": false,
    "pycharm": {
     "name": "#%% md\n"
    }
   }
  },
  {
   "cell_type": "code",
   "execution_count": 33,
   "outputs": [
    {
     "name": "stdout",
     "output_type": "stream",
     "text": [
      "Selected features: Index(['cli', 'ili', 'hh_cmnty_cli', 'nohh_cmnty_cli', 'tested_positive',\n",
      "       'cli.1', 'hh_cmnty_cli.1', 'nohh_cmnty_cli.1', 'tested_positive.1',\n",
      "       'cli.2', 'hh_cmnty_cli.2', 'nohh_cmnty_cli.2'],\n",
      "      dtype='object')\n"
     ]
    }
   ],
   "source": [
    "k = 12\n",
    "selector = SelectKBest(score_func=f_regression, k=k)\n",
    "result = selector.fit(data[:, :-1], data[:,-1])\n",
    "idx = np.argsort(result.scores_)[::-1]\n",
    "feat_idx = list(np.sort(idx[:k]))\n",
    "\n",
    "print(f'Selected features: {columns[feat_idx]}')\n",
    "features = data[:, feat_idx]\n",
    "\n",
    "# We need to normalize all the features\n",
    "normalizer = MinMaxScaler(feature_range = (0,1))\n",
    "features = normalizer.fit_transform(features)\n",
    "\n",
    "values = data[:, -1]\n",
    "values = np.expand_dims(values, axis=1)\n",
    "features_with_values = np.concatenate((features, values), axis=1)"
   ],
   "metadata": {
    "collapsed": false,
    "pycharm": {
     "name": "#%%\n"
    }
   }
  },
  {
   "cell_type": "markdown",
   "source": [
    "## Preparing dataset\n",
    "\n",
    "We then need to split the dataset into training set and test set.\n",
    "We can use the api provided by sklearn to do this."
   ],
   "metadata": {
    "collapsed": false,
    "pycharm": {
     "name": "#%% md\n"
    }
   }
  },
  {
   "cell_type": "code",
   "execution_count": 34,
   "outputs": [],
   "source": [
    "train_set,test_set = train_test_split(features_with_values, test_size=0.2, random_state=42)\n",
    "\n",
    "x_train=train_set[:,:-1]\n",
    "y_train=train_set[:,-1]\n",
    "x_test=test_set[:,:-1]\n",
    "y_test=test_set[:,-1]"
   ],
   "metadata": {
    "collapsed": false,
    "pycharm": {
     "name": "#%%\n"
    }
   }
  },
  {
   "cell_type": "markdown",
   "source": [
    "## Linear regression\n",
    "\n",
    "Finally, we will train our model using linear regression."
   ],
   "metadata": {
    "collapsed": false,
    "pycharm": {
     "name": "#%% md\n"
    }
   }
  },
  {
   "cell_type": "code",
   "execution_count": 35,
   "outputs": [
    {
     "name": "stdout",
     "output_type": "stream",
     "text": [
      "Weights: [ -3.91028257   3.64099088   6.18709571  -8.59003291  -0.08478557\n",
      "  -6.2970195  -19.18986644  15.91035666  37.2064383    7.39297461\n",
      "  14.59408981  -8.1357505 ]\n",
      "Bias: 2.271530322667597\n",
      "Losses: 0.94\n",
      "Prediction scores: 0.98\n"
     ]
    }
   ],
   "source": [
    "linearRegression = LinearRegression()\n",
    "linearRegression.fit(x_train, y_train)\n",
    "\n",
    "# Weights and bias\n",
    "print(f\"Weights: {linearRegression.coef_}\")\n",
    "print(f\"Bias: {linearRegression.intercept_}\")\n",
    "\n",
    "# Loss function\n",
    "print(\"Losses: %.2f\" % np.mean((linearRegression.predict(x_test) - y_test) ** 2))\n",
    "# Prediction scores\n",
    "print(\"Prediction scores: %.2f\" % linearRegression.score(x_test, y_test))\n"
   ],
   "metadata": {
    "collapsed": false,
    "pycharm": {
     "name": "#%%\n"
    }
   }
  }
 ],
 "metadata": {
  "kernelspec": {
   "display_name": "Python 3",
   "language": "python",
   "name": "python3"
  },
  "language_info": {
   "codemirror_mode": {
    "name": "ipython",
    "version": 3
   },
   "file_extension": ".py",
   "mimetype": "text/x-python",
   "name": "python",
   "nbconvert_exporter": "python",
   "pygments_lexer": "ipython3",
   "version": "3.7.11"
  },
  "nbTranslate": {
   "displayLangs": [
    "*"
   ],
   "hotkey": "alt-t",
   "langInMainMenu": true,
   "sourceLang": "en",
   "targetLang": "fr",
   "useGoogleTranslate": true
  },
  "toc": {
   "base_numbering": 1,
   "nav_menu": {},
   "number_sections": true,
   "sideBar": true,
   "skip_h1_title": false,
   "title_cell": "Table of Contents",
   "title_sidebar": "Contents",
   "toc_cell": false,
   "toc_position": {},
   "toc_section_display": true,
   "toc_window_display": false
  }
 },
 "nbformat": 4,
 "nbformat_minor": 4
}